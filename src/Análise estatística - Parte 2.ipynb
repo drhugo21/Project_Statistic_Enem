{
 "cells": [
  {
   "cell_type": "markdown",
   "metadata": {},
   "source": [
    "# Importação dos dados e verificação das colunas existentes no DataFrame."
   ]
  },
  {
   "cell_type": "code",
   "execution_count": 1,
   "metadata": {},
   "outputs": [],
   "source": [
    "import matplotlib.pyplot as plt\n",
    "import pandas as pd\n",
    "import numpy as np\n",
    "%matplotlib inline"
   ]
  },
  {
   "cell_type": "code",
   "execution_count": 2,
   "metadata": {
    "scrolled": false
   },
   "outputs": [
    {
     "name": "stderr",
     "output_type": "stream",
     "text": [
      "C:\\Users\\hugop\\Anaconda3\\lib\\site-packages\\ipykernel_launcher.py:1: FutureWarning: read_table is deprecated, use read_csv instead.\n",
      "  \"\"\"Entry point for launching an IPython kernel.\n"
     ]
    }
   ],
   "source": [
    "df = pd.read_table(f'../data/DADOS/DADOS_INEP_ENEM.csv', low_memory=False, sep=',')"
   ]
  },
  {
   "cell_type": "markdown",
   "metadata": {},
   "source": [
    "Para fazer com que apareçam apenas os Institutos Federais nós fazemos uma amostra dos dados."
   ]
  },
  {
   "cell_type": "code",
   "execution_count": 3,
   "metadata": {},
   "outputs": [],
   "source": [
    "df = df[df[\"NO_ESCOLA_EDUCACENSO\"] == \"IF\"]"
   ]
  },
  {
   "cell_type": "code",
   "execution_count": 4,
   "metadata": {},
   "outputs": [
    {
     "data": {
      "text/plain": [
       "Index(['Unnamed: 0', 'NU_ANO', 'CO_UF_ESCOLA', 'SG_UF_ESCOLA',\n",
       "       'CO_MUNICIPIO_ESCOLA', 'NO_MUNICIPIO_ESCOLA', 'CO_ESCOLA_EDUCACENSO',\n",
       "       'NO_ESCOLA_EDUCACENSO', 'TP_DEPENDENCIA_ADM_ESCOLA',\n",
       "       'TP_LOCALIZACAO_ESCOLA', 'NU_MATRICULAS', 'NU_PARTICIPANTES_NEC_ESP',\n",
       "       'NU_PARTICIPANTES', 'NU_TAXA_PARTICIPACAO', 'NU_MEDIA_CN',\n",
       "       'NU_MEDIA_CH', 'NU_MEDIA_LP', 'NU_MEDIA_MT', 'NU_MEDIA_RED',\n",
       "       'NU_MEDIA_OBJ', 'NU_MEDIA_TOT', 'INSE', 'PC_FORMACAO_DOCENTE',\n",
       "       'NU_TAXA_PERMANENCIA', 'NU_TAXA_APROVACAO', 'NU_TAXA_REPROVACAO',\n",
       "       'NU_TAXA_ABANDONO', 'PORTE_ESCOLA'],\n",
       "      dtype='object')"
      ]
     },
     "execution_count": 4,
     "metadata": {},
     "output_type": "execute_result"
    }
   ],
   "source": [
    "df.columns"
   ]
  },
  {
   "cell_type": "markdown",
   "metadata": {},
   "source": [
    "### Qual a média da nota no ENEM por Estados?"
   ]
  },
  {
   "cell_type": "markdown",
   "metadata": {},
   "source": [
    "O INEP chama cada parte do ENEM de área. As áreas são:\n",
    "- Ciências da Natureza (NU_MEDIA_CN);\n",
    "- Ciências Humanas (NU_MEDIA_CH);\n",
    "- Lnguagens e Códigos (NU_MEDIA_LP);\n",
    "- Matemática (NU_MEDIA_MT);\n",
    "- Redação (NU_MEDIA_RED);"
   ]
  },
  {
   "cell_type": "markdown",
   "metadata": {},
   "source": [
    "Primeiramente pegamos as tabelas que contém as informações que queremos, ou seja, as tabelas de cada área do ENEM."
   ]
  },
  {
   "cell_type": "code",
   "execution_count": 5,
   "metadata": {},
   "outputs": [],
   "source": [
    "dfEst = df[['SG_UF_ESCOLA','NU_MEDIA_CN','NU_MEDIA_CH', 'NU_MEDIA_LP', 'NU_MEDIA_MT', 'NU_MEDIA_RED']]"
   ]
  },
  {
   "cell_type": "markdown",
   "metadata": {},
   "source": [
    "Agora agrupamos esses dados baseados nos Estados e fazemos a média desses valores."
   ]
  },
  {
   "cell_type": "code",
   "execution_count": 6,
   "metadata": {},
   "outputs": [],
   "source": [
    "dfEst = dfEst.groupby('SG_UF_ESCOLA')\n",
    "dfEst = dfEst.mean()"
   ]
  },
  {
   "cell_type": "markdown",
   "metadata": {},
   "source": [
    "Fazemos por fim uma nova coluna de dados que contenha as médias de cada área por estado."
   ]
  },
  {
   "cell_type": "markdown",
   "metadata": {},
   "source": [
    "Após isso a gente criou uma nova tabela para pegar a média total pegando a média das médias de cada discplina."
   ]
  },
  {
   "cell_type": "code",
   "execution_count": 7,
   "metadata": {},
   "outputs": [],
   "source": [
    "dfEst['NU_MEDIA_TOTAL'] = dfEst.mean(axis=1)"
   ]
  },
  {
   "cell_type": "markdown",
   "metadata": {},
   "source": [
    "E agora com a função iloc a gente seleciona apenas a coluna que queremos."
   ]
  },
  {
   "cell_type": "code",
   "execution_count": 8,
   "metadata": {},
   "outputs": [
    {
     "data": {
      "text/html": [
       "<div>\n",
       "<style scoped>\n",
       "    .dataframe tbody tr th:only-of-type {\n",
       "        vertical-align: middle;\n",
       "    }\n",
       "\n",
       "    .dataframe tbody tr th {\n",
       "        vertical-align: top;\n",
       "    }\n",
       "\n",
       "    .dataframe thead th {\n",
       "        text-align: right;\n",
       "    }\n",
       "</style>\n",
       "<table border=\"1\" class=\"dataframe\">\n",
       "  <thead>\n",
       "    <tr style=\"text-align: right;\">\n",
       "      <th></th>\n",
       "      <th>NU_MEDIA_TOTAL</th>\n",
       "    </tr>\n",
       "    <tr>\n",
       "      <th>SG_UF_ESCOLA</th>\n",
       "      <th></th>\n",
       "    </tr>\n",
       "  </thead>\n",
       "  <tbody>\n",
       "    <tr>\n",
       "      <th>AC</th>\n",
       "      <td>496.277500</td>\n",
       "    </tr>\n",
       "    <tr>\n",
       "      <th>AL</th>\n",
       "      <td>543.033415</td>\n",
       "    </tr>\n",
       "    <tr>\n",
       "      <th>AM</th>\n",
       "      <td>508.143650</td>\n",
       "    </tr>\n",
       "    <tr>\n",
       "      <th>AP</th>\n",
       "      <td>540.784000</td>\n",
       "    </tr>\n",
       "    <tr>\n",
       "      <th>BA</th>\n",
       "      <td>565.068947</td>\n",
       "    </tr>\n",
       "    <tr>\n",
       "      <th>CE</th>\n",
       "      <td>535.072462</td>\n",
       "    </tr>\n",
       "    <tr>\n",
       "      <th>DF</th>\n",
       "      <td>520.334667</td>\n",
       "    </tr>\n",
       "    <tr>\n",
       "      <th>ES</th>\n",
       "      <td>599.630294</td>\n",
       "    </tr>\n",
       "    <tr>\n",
       "      <th>GO</th>\n",
       "      <td>562.812931</td>\n",
       "    </tr>\n",
       "    <tr>\n",
       "      <th>MA</th>\n",
       "      <td>538.418400</td>\n",
       "    </tr>\n",
       "    <tr>\n",
       "      <th>MG</th>\n",
       "      <td>580.715370</td>\n",
       "    </tr>\n",
       "    <tr>\n",
       "      <th>MS</th>\n",
       "      <td>580.770000</td>\n",
       "    </tr>\n",
       "    <tr>\n",
       "      <th>MT</th>\n",
       "      <td>547.696462</td>\n",
       "    </tr>\n",
       "    <tr>\n",
       "      <th>PA</th>\n",
       "      <td>552.124429</td>\n",
       "    </tr>\n",
       "    <tr>\n",
       "      <th>PB</th>\n",
       "      <td>546.533619</td>\n",
       "    </tr>\n",
       "    <tr>\n",
       "      <th>PE</th>\n",
       "      <td>537.836917</td>\n",
       "    </tr>\n",
       "    <tr>\n",
       "      <th>PI</th>\n",
       "      <td>544.067429</td>\n",
       "    </tr>\n",
       "    <tr>\n",
       "      <th>PR</th>\n",
       "      <td>588.412786</td>\n",
       "    </tr>\n",
       "    <tr>\n",
       "      <th>RJ</th>\n",
       "      <td>606.514698</td>\n",
       "    </tr>\n",
       "    <tr>\n",
       "      <th>RN</th>\n",
       "      <td>589.241094</td>\n",
       "    </tr>\n",
       "    <tr>\n",
       "      <th>RO</th>\n",
       "      <td>542.643273</td>\n",
       "    </tr>\n",
       "    <tr>\n",
       "      <th>RR</th>\n",
       "      <td>538.292000</td>\n",
       "    </tr>\n",
       "    <tr>\n",
       "      <th>RS</th>\n",
       "      <td>567.082590</td>\n",
       "    </tr>\n",
       "    <tr>\n",
       "      <th>SC</th>\n",
       "      <td>572.030456</td>\n",
       "    </tr>\n",
       "    <tr>\n",
       "      <th>SE</th>\n",
       "      <td>529.650667</td>\n",
       "    </tr>\n",
       "    <tr>\n",
       "      <th>SP</th>\n",
       "      <td>596.198143</td>\n",
       "    </tr>\n",
       "    <tr>\n",
       "      <th>TO</th>\n",
       "      <td>551.769684</td>\n",
       "    </tr>\n",
       "  </tbody>\n",
       "</table>\n",
       "</div>"
      ],
      "text/plain": [
       "              NU_MEDIA_TOTAL\n",
       "SG_UF_ESCOLA                \n",
       "AC                496.277500\n",
       "AL                543.033415\n",
       "AM                508.143650\n",
       "AP                540.784000\n",
       "BA                565.068947\n",
       "CE                535.072462\n",
       "DF                520.334667\n",
       "ES                599.630294\n",
       "GO                562.812931\n",
       "MA                538.418400\n",
       "MG                580.715370\n",
       "MS                580.770000\n",
       "MT                547.696462\n",
       "PA                552.124429\n",
       "PB                546.533619\n",
       "PE                537.836917\n",
       "PI                544.067429\n",
       "PR                588.412786\n",
       "RJ                606.514698\n",
       "RN                589.241094\n",
       "RO                542.643273\n",
       "RR                538.292000\n",
       "RS                567.082590\n",
       "SC                572.030456\n",
       "SE                529.650667\n",
       "SP                596.198143\n",
       "TO                551.769684"
      ]
     },
     "execution_count": 8,
     "metadata": {},
     "output_type": "execute_result"
    }
   ],
   "source": [
    "dfEstFin = dfEst.iloc[:,5:]\n",
    "dfEstFin"
   ]
  },
  {
   "cell_type": "markdown",
   "metadata": {},
   "source": [
    "Vamos fazer um gráfico para ter um apanhado geral sobre esses dados."
   ]
  },
  {
   "cell_type": "code",
   "execution_count": 9,
   "metadata": {},
   "outputs": [
    {
     "data": {
      "text/plain": [
       "<matplotlib.axes._subplots.AxesSubplot at 0x1f0e1d7f4a8>"
      ]
     },
     "execution_count": 9,
     "metadata": {},
     "output_type": "execute_result"
    },
    {
     "data": {
      "image/png": "[encoded data removed]",
      "text/plain": [
       "<Figure size 1080x576 with 1 Axes>"
      ]
     },
     "metadata": {
      "needs_background": "light"
     },
     "output_type": "display_data"
    }
   ],
   "source": [
    "dfEstFin.sort_values(['NU_MEDIA_TOTAL']).plot.barh(figsize=(15,8))"
   ]
  },
  {
   "cell_type": "markdown",
   "metadata": {},
   "source": [
    "Baseado nisso nós podemos concluir que o Estado em que o IF possui a maior nota geral no ENEM é o RJ, já o AC fica como a menor média entre eles."
   ]
  },
  {
   "cell_type": "markdown",
   "metadata": {},
   "source": [
    "### Qual a média por \"disciplina\" do ENEM?"
   ]
  },
  {
   "cell_type": "markdown",
   "metadata": {},
   "source": [
    "Nesse quesito, nós pegamos as tabelas que nos interessam (as tabelas por cada disciplina e a tabela dos IFs)."
   ]
  },
  {
   "cell_type": "code",
   "execution_count": 10,
   "metadata": {},
   "outputs": [],
   "source": [
    "IFs = df[['NU_MEDIA_CN','NU_MEDIA_CH', 'NU_MEDIA_LP', 'NU_MEDIA_MT', 'NU_MEDIA_RED','NO_ESCOLA_EDUCACENSO']]"
   ]
  },
  {
   "cell_type": "markdown",
   "metadata": {},
   "source": [
    "Após isso agrupamos pelos IF e já tiramos a média."
   ]
  },
  {
   "cell_type": "code",
   "execution_count": 11,
   "metadata": {},
   "outputs": [
    {
     "data": {
      "text/html": [
       "<div>\n",
       "<style scoped>\n",
       "    .dataframe tbody tr th:only-of-type {\n",
       "        vertical-align: middle;\n",
       "    }\n",
       "\n",
       "    .dataframe tbody tr th {\n",
       "        vertical-align: top;\n",
       "    }\n",
       "\n",
       "    .dataframe thead th {\n",
       "        text-align: right;\n",
       "    }\n",
       "</style>\n",
       "<table border=\"1\" class=\"dataframe\">\n",
       "  <thead>\n",
       "    <tr style=\"text-align: right;\">\n",
       "      <th></th>\n",
       "      <th>NU_MEDIA_CN</th>\n",
       "      <th>NU_MEDIA_CH</th>\n",
       "      <th>NU_MEDIA_LP</th>\n",
       "      <th>NU_MEDIA_MT</th>\n",
       "      <th>NU_MEDIA_RED</th>\n",
       "    </tr>\n",
       "    <tr>\n",
       "      <th>NO_ESCOLA_EDUCACENSO</th>\n",
       "      <th></th>\n",
       "      <th></th>\n",
       "      <th></th>\n",
       "      <th></th>\n",
       "      <th></th>\n",
       "    </tr>\n",
       "  </thead>\n",
       "  <tbody>\n",
       "    <tr>\n",
       "      <th>IF</th>\n",
       "      <td>527.727729</td>\n",
       "      <td>577.695641</td>\n",
       "      <td>543.344524</td>\n",
       "      <td>563.730183</td>\n",
       "      <td>599.971319</td>\n",
       "    </tr>\n",
       "  </tbody>\n",
       "</table>\n",
       "</div>"
      ],
      "text/plain": [
       "                      NU_MEDIA_CN  NU_MEDIA_CH  NU_MEDIA_LP  NU_MEDIA_MT  \\\n",
       "NO_ESCOLA_EDUCACENSO                                                       \n",
       "IF                     527.727729   577.695641   543.344524   563.730183   \n",
       "\n",
       "                      NU_MEDIA_RED  \n",
       "NO_ESCOLA_EDUCACENSO                \n",
       "IF                      599.971319  "
      ]
     },
     "execution_count": 11,
     "metadata": {},
     "output_type": "execute_result"
    }
   ],
   "source": [
    "IFMed = IFs.groupby(\"NO_ESCOLA_EDUCACENSO\").mean()\n",
    "IFMed"
   ]
  },
  {
   "cell_type": "code",
   "execution_count": 12,
   "metadata": {},
   "outputs": [
    {
     "data": {
      "text/plain": [
       "NO_ESCOLA_EDUCACENSO\n",
       "IF    5.038231\n",
       "dtype: float64"
      ]
     },
     "execution_count": 12,
     "metadata": {},
     "output_type": "execute_result"
    }
   ],
   "source": [
    "coeVar = (IFMed.std(axis=1)/IFMed.mean(axis=1))*100\n",
    "coeVar"
   ]
  },
  {
   "cell_type": "markdown",
   "metadata": {},
   "source": [
    "O IF possui uma nota geral mais baixa em ciências da natureza, porém em redação ele sobe a nota. E com um coeficiente de variação de aproximadamente 5%, ou seja, com pouquíssima variação entre suas notas."
   ]
  },
  {
   "cell_type": "markdown",
   "metadata": {},
   "source": [
    "### Qual o desvio padrão das médias totais de cada municipio?"
   ]
  },
  {
   "cell_type": "markdown",
   "metadata": {},
   "source": [
    "Nesta parte agrupamos as notas em função dos municipios e calculamos e media total de cada municipio."
   ]
  },
  {
   "cell_type": "code",
   "execution_count": 13,
   "metadata": {},
   "outputs": [],
   "source": [
    "dfMun = df[['NO_MUNICIPIO_ESCOLA','NU_MEDIA_CN','NU_MEDIA_CH', 'NU_MEDIA_LP', 'NU_MEDIA_MT', 'NU_MEDIA_RED']]\n",
    "\n",
    "dfMun = dfMun.groupby('NO_MUNICIPIO_ESCOLA')\n",
    "\n",
    "dfMun = dfMun.mean()"
   ]
  },
  {
   "cell_type": "markdown",
   "metadata": {},
   "source": [
    "Aqui calculamos o desvio padrão médio de todas as médias."
   ]
  },
  {
   "cell_type": "code",
   "execution_count": 14,
   "metadata": {},
   "outputs": [
    {
     "data": {
      "text/plain": [
       "39.22724618944959"
      ]
     },
     "execution_count": 14,
     "metadata": {},
     "output_type": "execute_result"
    }
   ],
   "source": [
    "dP = dfMun.mean(axis=1).std()\n",
    "dP"
   ]
  },
  {
   "cell_type": "markdown",
   "metadata": {},
   "source": [
    "Mas o que esse valor significa? Bem, o desvio padrão serve para calcular o desvio das notas em torno da média. Com isso, temos que há um desvio de aproximadamente 39 pontos em torno da média."
   ]
  },
  {
   "cell_type": "markdown",
   "metadata": {},
   "source": [
    "### Existem outliers nos dados?"
   ]
  },
  {
   "cell_type": "code",
   "execution_count": 15,
   "metadata": {},
   "outputs": [
    {
     "data": {
      "text/plain": [
       "<matplotlib.axes._subplots.AxesSubplot at 0x1f0e11f9da0>"
      ]
     },
     "execution_count": 15,
     "metadata": {},
     "output_type": "execute_result"
    },
    {
     "data": {
      "image/png": "[encoded data removed]",
      "text/plain": [
       "<Figure size 432x288 with 1 Axes>"
      ]
     },
     "metadata": {
      "needs_background": "light"
     },
     "output_type": "display_data"
    }
   ],
   "source": [
    "dfMun.mean(axis=1).plot.box()"
   ]
  },
  {
   "cell_type": "markdown",
   "metadata": {},
   "source": [
    "Baseado no boxplot a resposta é não."
   ]
  },
  {
   "cell_type": "markdown",
   "metadata": {},
   "source": [
    "Porém isso mostra mais do que parece. O fato de não haver valores discrepantes no conjunto de dados mostra uma padronização nas notas dos Institutos Federais, o que é bom, mostrando que o ensino segue um padrão em diferentes Campus em torno do país."
   ]
  },
  {
   "cell_type": "markdown",
   "metadata": {},
   "source": [
    "Ao olharmos o boxplot, vemos também que não há tanta variação nas notas. Elas se mantém em torno de 530 até 580 no ENEM, mantendo o discurso de que é um ensino mais padronizado."
   ]
  },
  {
   "cell_type": "markdown",
   "metadata": {},
   "source": [
    "Outra informação interessante é o fato do mesmo estar um pouco para baixo do centro. Quando isso ocorre dizemos que há uma leve assimetria a esquerda."
   ]
  }
 ],
 "metadata": {
  "kernelspec": {
   "display_name": "Python 3",
   "language": "python",
   "name": "python3"
  },
  "language_info": {
   "codemirror_mode": {
    "name": "ipython",
    "version": 3
   },
   "file_extension": ".py",
   "mimetype": "text/x-python",
   "name": "python",
   "nbconvert_exporter": "python",
   "pygments_lexer": "ipython3",
   "version": "3.7.3"
  }
 },
 "nbformat": 4,
 "nbformat_minor": 2
}
