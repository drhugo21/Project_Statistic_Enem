{
 "cells": [
  {
   "cell_type": "markdown",
   "metadata": {},
   "source": [
    "- ### Descrição\n",
    "    - Os Institutos Federais são nomeados de formas diferentes na arquivo de dados que obtemos. Por esse motivo fez-se necessário uma padronização dessa nomeclatura dos IFs.\n",
    "    - Resolvemos chamar todo de \"IF\" e a diferenciação entre eles ficaram a cargo do ESTADO (\"SG_UF_ESCOLA\") e do MUNICÍPIO (\"NO_MUNICIPIO_ESCOLA\" )"
   ]
  },
  {
   "cell_type": "markdown",
   "metadata": {},
   "source": [
    "- ### Importando bibliotecas"
   ]
  },
  {
   "cell_type": "code",
   "execution_count": 1,
   "metadata": {},
   "outputs": [],
   "source": [
    "import pandas as pd\n",
    "import numpy as np"
   ]
  },
  {
   "cell_type": "markdown",
   "metadata": {},
   "source": [
    "- ### Importando Dados"
   ]
  },
  {
   "cell_type": "code",
   "execution_count": 9,
   "metadata": {},
   "outputs": [],
   "source": [
    "df = pd.read_table(f'../data/DADOS_INEP/DADOS/MICRODADOS_ENEM_ESCOLA.csv', low_memory=False, sep=';', encoding = \"Latin\")"
   ]
  },
  {
   "cell_type": "markdown",
   "metadata": {},
   "source": [
    "- ### Limpando Dados"
   ]
  },
  {
   "cell_type": "markdown",
   "metadata": {},
   "source": [
    "Lista das Siglas dos estados da Federação"
   ]
  },
  {
   "cell_type": "code",
   "execution_count": 3,
   "metadata": {},
   "outputs": [],
   "source": [
    "siglasDosEstados = [\"AC\", \"AL\", \"AP\", \"AM\", \"BA\", \"CE\" \n",
    "                    \"DF\", \"ES\",\"GO\", \"MA\", \"MT\", \"MS\", \n",
    "                    \"MG\", \"PA\", \"PB\", \"PR\", \"PE\", \"PI\", \"RR\", \n",
    "                    \"RO\", \"RJ\", \"RN\", \"RS\", \"SC\", \"SP\", \n",
    "                    \"SE\", \"TO\"]"
   ]
  },
  {
   "cell_type": "markdown",
   "metadata": {},
   "source": [
    "Funçao para filtrar os Institutos Federais: <br>\n",
    "- \"IF + sigla do UF\"\n",
    "- Que conterem \"INSTITUIÇÃO\" ou \"INST\" e \"FEDERAL\"\n",
    "- Que conterem \"IF\" e \"CAMPUS\""
   ]
  },
  {
   "cell_type": "code",
   "execution_count": 4,
   "metadata": {},
   "outputs": [],
   "source": [
    "def findIF_states(x):\n",
    "    for i in siglasDosEstados:\n",
    "        if f\"IF{i} \" in x.upper() : return True\n",
    "        if \"FEDERAL\" in x.upper() and (\"INSTITUTO\" in x.upper() or \"INST\" in x.upper()): return True\n",
    "        if \"IF\" in x.upper() and \"CAMPUS\" in x.upper(): return True\n",
    "    return False"
   ]
  },
  {
   "cell_type": "markdown",
   "metadata": {},
   "source": [
    "Filtrar apenas as escolas FEDERAIS"
   ]
  },
  {
   "cell_type": "code",
   "execution_count": 5,
   "metadata": {},
   "outputs": [],
   "source": [
    "escolas_federais = df[df[\"TP_DEPENDENCIA_ADM_ESCOLA\"] == 1]"
   ]
  },
  {
   "cell_type": "markdown",
   "metadata": {},
   "source": [
    "Aplicar e função findIF_states na colunas \"NO_ESCOLA_EDUCACENSO\""
   ]
  },
  {
   "cell_type": "code",
   "execution_count": 6,
   "metadata": {},
   "outputs": [],
   "source": [
    "IF_identificados = list(filter(findIF_states, escolas_federais[\"NO_ESCOLA_EDUCACENSO\"].value_counts().index))"
   ]
  },
  {
   "cell_type": "markdown",
   "metadata": {},
   "source": [
    "Atribuindo a \"NO_ESCOLA_EDUCACENSO\" a permutas de todas a nomeclaturas dos IFs para \"IF\""
   ]
  },
  {
   "cell_type": "code",
   "execution_count": 7,
   "metadata": {},
   "outputs": [],
   "source": [
    "df[\"NO_ESCOLA_EDUCACENSO\"] = df[\"NO_ESCOLA_EDUCACENSO\"].replace(IF_identificados, \"IF\")"
   ]
  },
  {
   "cell_type": "markdown",
   "metadata": {},
   "source": [
    "- ### Salvando dados"
   ]
  },
  {
   "cell_type": "code",
   "execution_count": 8,
   "metadata": {},
   "outputs": [],
   "source": [
    "# df.to_csv(\"../data/DADOS/DADOS_INEP_ENEM.csv\")"
   ]
  }
 ],
 "metadata": {
  "kernelspec": {
   "display_name": "Python 3",
   "language": "python",
   "name": "python3"
  },
  "language_info": {
   "codemirror_mode": {
    "name": "ipython",
    "version": 3
   },
   "file_extension": ".py",
   "mimetype": "text/x-python",
   "name": "python",
   "nbconvert_exporter": "python",
   "pygments_lexer": "ipython3",
   "version": "3.6.8"
  }
 },
 "nbformat": 4,
 "nbformat_minor": 2
}
