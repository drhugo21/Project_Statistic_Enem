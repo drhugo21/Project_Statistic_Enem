{
 "cells": [
  {
   "cell_type": "markdown",
   "metadata": {},
   "source": [
    "- ### Importando Bibliotecas"
   ]
  },
  {
   "cell_type": "code",
   "execution_count": 1,
   "metadata": {},
   "outputs": [],
   "source": [
    "import matplotlib.pyplot as plt\n",
    "import pandas as pd\n",
    "import numpy as np\n",
    "%matplotlib inline"
   ]
  },
  {
   "cell_type": "markdown",
   "metadata": {},
   "source": [
    "- ### Obtendo dados"
   ]
  },
  {
   "cell_type": "code",
   "execution_count": 2,
   "metadata": {},
   "outputs": [],
   "source": [
    "df = pd.read_table(f'../data/DADOS/DADOS_INEP_ENEM.csv', low_memory=False, sep=',')"
   ]
  },
  {
   "cell_type": "code",
   "execution_count": 4,
   "metadata": {},
   "outputs": [],
   "source": [
    "IFs = df[df[\"NO_ESCOLA_EDUCACENSO\"] == \"IF\"]"
   ]
  },
  {
   "cell_type": "markdown",
   "metadata": {},
   "source": [
    "- ### **Análise por ANO**"
   ]
  },
  {
   "cell_type": "markdown",
   "metadata": {},
   "source": [
    "-  #### _Descrição dos dados de \"Taxa de Aprovação\" no Ensino médio_"
   ]
  },
  {
   "cell_type": "code",
   "execution_count": 11,
   "metadata": {},
   "outputs": [
    {
     "data": {
      "text/html": [
       "<div>\n",
       "<style scoped>\n",
       "    .dataframe tbody tr th:only-of-type {\n",
       "        vertical-align: middle;\n",
       "    }\n",
       "\n",
       "    .dataframe tbody tr th {\n",
       "        vertical-align: top;\n",
       "    }\n",
       "\n",
       "    .dataframe thead th {\n",
       "        text-align: right;\n",
       "    }\n",
       "</style>\n",
       "<table border=\"1\" class=\"dataframe\">\n",
       "  <thead>\n",
       "    <tr style=\"text-align: right;\">\n",
       "      <th></th>\n",
       "      <th>count</th>\n",
       "      <th>mean</th>\n",
       "      <th>std</th>\n",
       "      <th>min</th>\n",
       "      <th>25%</th>\n",
       "      <th>50%</th>\n",
       "      <th>75%</th>\n",
       "      <th>max</th>\n",
       "    </tr>\n",
       "    <tr>\n",
       "      <th>NU_ANO</th>\n",
       "      <th></th>\n",
       "      <th></th>\n",
       "      <th></th>\n",
       "      <th></th>\n",
       "      <th></th>\n",
       "      <th></th>\n",
       "      <th></th>\n",
       "      <th></th>\n",
       "    </tr>\n",
       "  </thead>\n",
       "  <tbody>\n",
       "    <tr>\n",
       "      <th>2009</th>\n",
       "      <td>63.0</td>\n",
       "      <td>85.555556</td>\n",
       "      <td>8.914374</td>\n",
       "      <td>55.6</td>\n",
       "      <td>81.00</td>\n",
       "      <td>88.1</td>\n",
       "      <td>91.5</td>\n",
       "      <td>100.0</td>\n",
       "    </tr>\n",
       "    <tr>\n",
       "      <th>2010</th>\n",
       "      <td>107.0</td>\n",
       "      <td>84.371963</td>\n",
       "      <td>8.294836</td>\n",
       "      <td>64.3</td>\n",
       "      <td>78.40</td>\n",
       "      <td>86.0</td>\n",
       "      <td>90.8</td>\n",
       "      <td>100.0</td>\n",
       "    </tr>\n",
       "    <tr>\n",
       "      <th>2011</th>\n",
       "      <td>121.0</td>\n",
       "      <td>83.507438</td>\n",
       "      <td>12.528109</td>\n",
       "      <td>0.0</td>\n",
       "      <td>79.30</td>\n",
       "      <td>86.3</td>\n",
       "      <td>90.4</td>\n",
       "      <td>100.0</td>\n",
       "    </tr>\n",
       "    <tr>\n",
       "      <th>2012</th>\n",
       "      <td>77.0</td>\n",
       "      <td>82.758442</td>\n",
       "      <td>18.770851</td>\n",
       "      <td>0.0</td>\n",
       "      <td>80.00</td>\n",
       "      <td>85.9</td>\n",
       "      <td>92.3</td>\n",
       "      <td>100.0</td>\n",
       "    </tr>\n",
       "    <tr>\n",
       "      <th>2013</th>\n",
       "      <td>201.0</td>\n",
       "      <td>83.464179</td>\n",
       "      <td>9.336900</td>\n",
       "      <td>56.5</td>\n",
       "      <td>77.40</td>\n",
       "      <td>84.5</td>\n",
       "      <td>90.3</td>\n",
       "      <td>100.0</td>\n",
       "    </tr>\n",
       "    <tr>\n",
       "      <th>2014</th>\n",
       "      <td>238.0</td>\n",
       "      <td>84.214286</td>\n",
       "      <td>10.341582</td>\n",
       "      <td>0.0</td>\n",
       "      <td>79.65</td>\n",
       "      <td>86.0</td>\n",
       "      <td>90.9</td>\n",
       "      <td>100.0</td>\n",
       "    </tr>\n",
       "    <tr>\n",
       "      <th>2015</th>\n",
       "      <td>250.0</td>\n",
       "      <td>85.641600</td>\n",
       "      <td>8.675967</td>\n",
       "      <td>40.7</td>\n",
       "      <td>80.75</td>\n",
       "      <td>86.5</td>\n",
       "      <td>91.8</td>\n",
       "      <td>100.0</td>\n",
       "    </tr>\n",
       "  </tbody>\n",
       "</table>\n",
       "</div>"
      ],
      "text/plain": [
       "        count       mean        std   min    25%   50%   75%    max\n",
       "NU_ANO                                                             \n",
       "2009     63.0  85.555556   8.914374  55.6  81.00  88.1  91.5  100.0\n",
       "2010    107.0  84.371963   8.294836  64.3  78.40  86.0  90.8  100.0\n",
       "2011    121.0  83.507438  12.528109   0.0  79.30  86.3  90.4  100.0\n",
       "2012     77.0  82.758442  18.770851   0.0  80.00  85.9  92.3  100.0\n",
       "2013    201.0  83.464179   9.336900  56.5  77.40  84.5  90.3  100.0\n",
       "2014    238.0  84.214286  10.341582   0.0  79.65  86.0  90.9  100.0\n",
       "2015    250.0  85.641600   8.675967  40.7  80.75  86.5  91.8  100.0"
      ]
     },
     "execution_count": 11,
     "metadata": {},
     "output_type": "execute_result"
    }
   ],
   "source": [
    "IFs.groupby([\"NU_ANO\"])[\"NU_TAXA_APROVACAO\"].describe()"
   ]
  },
  {
   "cell_type": "markdown",
   "metadata": {},
   "source": [
    "-  #### _Descrição dos dados de \"Taxa de Reprovação\" no Ensino médio_"
   ]
  },
  {
   "cell_type": "code",
   "execution_count": 12,
   "metadata": {},
   "outputs": [
    {
     "data": {
      "text/html": [
       "<div>\n",
       "<style scoped>\n",
       "    .dataframe tbody tr th:only-of-type {\n",
       "        vertical-align: middle;\n",
       "    }\n",
       "\n",
       "    .dataframe tbody tr th {\n",
       "        vertical-align: top;\n",
       "    }\n",
       "\n",
       "    .dataframe thead th {\n",
       "        text-align: right;\n",
       "    }\n",
       "</style>\n",
       "<table border=\"1\" class=\"dataframe\">\n",
       "  <thead>\n",
       "    <tr style=\"text-align: right;\">\n",
       "      <th></th>\n",
       "      <th>count</th>\n",
       "      <th>mean</th>\n",
       "      <th>std</th>\n",
       "      <th>min</th>\n",
       "      <th>25%</th>\n",
       "      <th>50%</th>\n",
       "      <th>75%</th>\n",
       "      <th>max</th>\n",
       "    </tr>\n",
       "    <tr>\n",
       "      <th>NU_ANO</th>\n",
       "      <th></th>\n",
       "      <th></th>\n",
       "      <th></th>\n",
       "      <th></th>\n",
       "      <th></th>\n",
       "      <th></th>\n",
       "      <th></th>\n",
       "      <th></th>\n",
       "    </tr>\n",
       "  </thead>\n",
       "  <tbody>\n",
       "    <tr>\n",
       "      <th>2009</th>\n",
       "      <td>63.0</td>\n",
       "      <td>11.593651</td>\n",
       "      <td>8.422739</td>\n",
       "      <td>0.0</td>\n",
       "      <td>6.00</td>\n",
       "      <td>9.0</td>\n",
       "      <td>14.900</td>\n",
       "      <td>40.3</td>\n",
       "    </tr>\n",
       "    <tr>\n",
       "      <th>2010</th>\n",
       "      <td>107.0</td>\n",
       "      <td>13.590654</td>\n",
       "      <td>7.960321</td>\n",
       "      <td>0.0</td>\n",
       "      <td>7.40</td>\n",
       "      <td>12.5</td>\n",
       "      <td>19.700</td>\n",
       "      <td>35.1</td>\n",
       "    </tr>\n",
       "    <tr>\n",
       "      <th>2011</th>\n",
       "      <td>121.0</td>\n",
       "      <td>12.831405</td>\n",
       "      <td>8.928662</td>\n",
       "      <td>0.0</td>\n",
       "      <td>6.90</td>\n",
       "      <td>11.6</td>\n",
       "      <td>16.800</td>\n",
       "      <td>47.3</td>\n",
       "    </tr>\n",
       "    <tr>\n",
       "      <th>2012</th>\n",
       "      <td>77.0</td>\n",
       "      <td>10.518182</td>\n",
       "      <td>7.726437</td>\n",
       "      <td>0.0</td>\n",
       "      <td>3.60</td>\n",
       "      <td>10.9</td>\n",
       "      <td>15.900</td>\n",
       "      <td>30.6</td>\n",
       "    </tr>\n",
       "    <tr>\n",
       "      <th>2013</th>\n",
       "      <td>201.0</td>\n",
       "      <td>13.435323</td>\n",
       "      <td>8.314030</td>\n",
       "      <td>0.0</td>\n",
       "      <td>7.40</td>\n",
       "      <td>11.8</td>\n",
       "      <td>19.400</td>\n",
       "      <td>40.3</td>\n",
       "    </tr>\n",
       "    <tr>\n",
       "      <th>2014</th>\n",
       "      <td>238.0</td>\n",
       "      <td>12.714706</td>\n",
       "      <td>7.955482</td>\n",
       "      <td>0.0</td>\n",
       "      <td>7.45</td>\n",
       "      <td>11.6</td>\n",
       "      <td>16.575</td>\n",
       "      <td>48.4</td>\n",
       "    </tr>\n",
       "    <tr>\n",
       "      <th>2015</th>\n",
       "      <td>250.0</td>\n",
       "      <td>11.385200</td>\n",
       "      <td>7.241257</td>\n",
       "      <td>0.0</td>\n",
       "      <td>5.90</td>\n",
       "      <td>10.9</td>\n",
       "      <td>15.700</td>\n",
       "      <td>37.2</td>\n",
       "    </tr>\n",
       "  </tbody>\n",
       "</table>\n",
       "</div>"
      ],
      "text/plain": [
       "        count       mean       std  min   25%   50%     75%   max\n",
       "NU_ANO                                                           \n",
       "2009     63.0  11.593651  8.422739  0.0  6.00   9.0  14.900  40.3\n",
       "2010    107.0  13.590654  7.960321  0.0  7.40  12.5  19.700  35.1\n",
       "2011    121.0  12.831405  8.928662  0.0  6.90  11.6  16.800  47.3\n",
       "2012     77.0  10.518182  7.726437  0.0  3.60  10.9  15.900  30.6\n",
       "2013    201.0  13.435323  8.314030  0.0  7.40  11.8  19.400  40.3\n",
       "2014    238.0  12.714706  7.955482  0.0  7.45  11.6  16.575  48.4\n",
       "2015    250.0  11.385200  7.241257  0.0  5.90  10.9  15.700  37.2"
      ]
     },
     "execution_count": 12,
     "metadata": {},
     "output_type": "execute_result"
    }
   ],
   "source": [
    "IFs.groupby([\"NU_ANO\"])[\"NU_TAXA_REPROVACAO\"].describe()"
   ]
  },
  {
   "cell_type": "markdown",
   "metadata": {},
   "source": [
    "- **Comportamento das Média de 2009 á 2015 de Aprovação**"
   ]
  },
  {
   "cell_type": "code",
   "execution_count": 22,
   "metadata": {},
   "outputs": [],
   "source": [
    "ser_media_apro_ano = IFs.groupby([\"NU_ANO\"])[\"NU_TAXA_APROVACAO\"].mean()"
   ]
  },
  {
   "cell_type": "code",
   "execution_count": 23,
   "metadata": {},
   "outputs": [
    {
     "data": {
      "text/plain": [
       "count     7.000000\n",
       "mean     84.216209\n",
       "std       1.083424\n",
       "min      82.758442\n",
       "25%      83.485809\n",
       "50%      84.214286\n",
       "75%      84.963759\n",
       "max      85.641600\n",
       "Name: NU_TAXA_APROVACAO, dtype: float64"
      ]
     },
     "execution_count": 23,
     "metadata": {},
     "output_type": "execute_result"
    }
   ],
   "source": [
    "ser_media_apro_ano.describe()"
   ]
  },
  {
   "cell_type": "code",
   "execution_count": 35,
   "metadata": {},
   "outputs": [
    {
     "data": {
      "text/plain": [
       "1.1738071285630836"
      ]
     },
     "execution_count": 35,
     "metadata": {},
     "output_type": "execute_result"
    }
   ],
   "source": [
    "ser_media_apro_ano.var()"
   ]
  },
  {
   "cell_type": "code",
   "execution_count": 27,
   "metadata": {},
   "outputs": [
    {
     "data": {
      "text/plain": [
       "<matplotlib.axes._subplots.AxesSubplot at 0x7f28a6076f60>"
      ]
     },
     "execution_count": 27,
     "metadata": {},
     "output_type": "execute_result"
    },
    {
     "data": {
      "image/png": "[encoded data removed]",
      "text/plain": [
       "<Figure size 432x288 with 1 Axes>"
      ]
     },
     "metadata": {
      "needs_background": "light"
     },
     "output_type": "display_data"
    }
   ],
   "source": [
    "ser_media_apro_ano.plot()"
   ]
  },
  {
   "cell_type": "code",
   "execution_count": 28,
   "metadata": {},
   "outputs": [
    {
     "data": {
      "text/plain": [
       "<matplotlib.axes._subplots.AxesSubplot at 0x7f28a60b7f60>"
      ]
     },
     "execution_count": 28,
     "metadata": {},
     "output_type": "execute_result"
    },
    {
     "data": {
      "image/png": "[encoded data removed]",
      "text/plain": [
       "<Figure size 432x288 with 1 Axes>"
      ]
     },
     "metadata": {
      "needs_background": "light"
     },
     "output_type": "display_data"
    }
   ],
   "source": [
    "ser_media_apro_ano.plot.box()"
   ]
  },
  {
   "cell_type": "markdown",
   "metadata": {},
   "source": [
    "- **Desvio Padrão**\n",
    "    - _Podemos observa que em relação a média de aprovação o IF manteve um desvio padrão de 1.08, ou seja, nesse anos podemos dizer que o Instituto manteve uma média de aprovação quase que estática._\n",
    "- **E uma variação de 1.173**\n",
    "- **Sem outlines**"
   ]
  },
  {
   "cell_type": "markdown",
   "metadata": {},
   "source": [
    "- **Comportamento das Média de 2009 á 2015 de Reprovação**"
   ]
  },
  {
   "cell_type": "code",
   "execution_count": 31,
   "metadata": {},
   "outputs": [],
   "source": [
    "ser_media_repro_ano = IFs.groupby([\"NU_ANO\"])[\"NU_TAXA_REPROVACAO\"].mean()"
   ]
  },
  {
   "cell_type": "code",
   "execution_count": 33,
   "metadata": {},
   "outputs": [
    {
     "data": {
      "text/plain": [
       "count     7.000000\n",
       "mean     12.295589\n",
       "std       1.148887\n",
       "min      10.518182\n",
       "25%      11.489425\n",
       "50%      12.714706\n",
       "75%      13.133364\n",
       "max      13.590654\n",
       "Name: NU_TAXA_REPROVACAO, dtype: float64"
      ]
     },
     "execution_count": 33,
     "metadata": {},
     "output_type": "execute_result"
    }
   ],
   "source": [
    "ser_media_repro_ano.describe()"
   ]
  },
  {
   "cell_type": "code",
   "execution_count": 36,
   "metadata": {},
   "outputs": [
    {
     "data": {
      "text/plain": [
       "1.3199412867065499"
      ]
     },
     "execution_count": 36,
     "metadata": {},
     "output_type": "execute_result"
    }
   ],
   "source": [
    "ser_media_repro_ano.var()"
   ]
  },
  {
   "cell_type": "code",
   "execution_count": 40,
   "metadata": {},
   "outputs": [
    {
     "data": {
      "text/plain": [
       "<matplotlib.axes._subplots.AxesSubplot at 0x7f28a0635710>"
      ]
     },
     "execution_count": 40,
     "metadata": {},
     "output_type": "execute_result"
    },
    {
     "data": {
      "image/png": "[encoded data removed]",
      "text/plain": [
       "<Figure size 432x288 with 1 Axes>"
      ]
     },
     "metadata": {
      "needs_background": "light"
     },
     "output_type": "display_data"
    }
   ],
   "source": [
    "ser_media_repro_ano.plot()"
   ]
  },
  {
   "cell_type": "code",
   "execution_count": 37,
   "metadata": {},
   "outputs": [
    {
     "data": {
      "text/plain": [
       "<matplotlib.axes._subplots.AxesSubplot at 0x7f28a064a780>"
      ]
     },
     "execution_count": 37,
     "metadata": {},
     "output_type": "execute_result"
    },
    {
     "data": {
      "image/png": "[encoded data removed]",
      "text/plain": [
       "<Figure size 432x288 with 1 Axes>"
      ]
     },
     "metadata": {
      "needs_background": "light"
     },
     "output_type": "display_data"
    }
   ],
   "source": [
    "ser_media_repro_ano.plot.box()"
   ]
  },
  {
   "cell_type": "code",
   "execution_count": 46,
   "metadata": {},
   "outputs": [
    {
     "data": {
      "text/plain": [
       "12.714705882352943"
      ]
     },
     "execution_count": 46,
     "metadata": {},
     "output_type": "execute_result"
    }
   ],
   "source": [
    "ser_media_repro_ano.median()"
   ]
  },
  {
   "cell_type": "markdown",
   "metadata": {},
   "source": [
    "- **Desvio Padrão**\n",
    "    - _Podemos observa que de forma parecida a taxa de Aprovação, a taxa de reprovação também não variou muito durante os anos. Obtendo um desvio padrão de 1.14_\n",
    "- **E uma variação de 1.31**\n",
    "- **Sem outlines**\n",
    "- **Boxplot**\n",
    "    - No Boxplot vemos que existe um uma maior variação nos valores abaixo de mediana"
   ]
  }
 ],
 "metadata": {
  "kernelspec": {
   "display_name": "Python 3",
   "language": "python",
   "name": "python3"
  },
  "language_info": {
   "codemirror_mode": {
    "name": "ipython",
    "version": 3
   },
   "file_extension": ".py",
   "mimetype": "text/x-python",
   "name": "python",
   "nbconvert_exporter": "python",
   "pygments_lexer": "ipython3",
   "version": "3.6.8"
  }
 },
 "nbformat": 4,
 "nbformat_minor": 2
}
